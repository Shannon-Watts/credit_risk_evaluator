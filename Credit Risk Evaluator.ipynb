{
 "cells": [
  {
   "cell_type": "code",
   "execution_count": 29,
   "metadata": {},
   "outputs": [],
   "source": [
    "import numpy as np\n",
    "import pandas as pd\n",
    "import matplotlib.pyplot as plt\n",
    "from pathlib import Path\n",
    "from sklearn.model_selection import train_test_split\n",
    "from sklearn.linear_model import LogisticRegression\n",
    "from sklearn.preprocessing import StandardScaler"
   ]
  },
  {
   "cell_type": "code",
   "execution_count": 4,
   "metadata": {},
   "outputs": [
    {
     "name": "stdout",
     "output_type": "stream",
     "text": [
      "Collecting scikit-learnNote: you may need to restart the kernel to use updated packages.\n",
      "  Downloading scikit_learn-1.0.2-cp37-cp37m-win_amd64.whl (7.1 MB)\n",
      "Requirement already satisfied: scipy>=1.1.0 in c:\\users\\shann\\anaconda3\\envs\\pythondata\\lib\\site-packages (from scikit-learn) (1.7.3)\n",
      "Collecting joblib>=0.11\n",
      "  Downloading joblib-1.1.0-py2.py3-none-any.whl (306 kB)\n",
      "Requirement already satisfied: numpy>=1.14.6 in c:\\users\\shann\\anaconda3\\envs\\pythondata\\lib\\site-packages (from scikit-learn) (1.21.5)\n",
      "Collecting threadpoolctl>=2.0.0\n",
      "  Downloading threadpoolctl-3.1.0-py3-none-any.whl (14 kB)\n",
      "\n",
      "Installing collected packages: threadpoolctl, joblib, scikit-learn\n",
      "Successfully installed joblib-1.1.0 scikit-learn-1.0.2 threadpoolctl-3.1.0\n"
     ]
    }
   ],
   "source": [
    "pip install -U scikit-learn"
   ]
  },
  {
   "cell_type": "markdown",
   "metadata": {},
   "source": [
    "## Preprocessing dataset"
   ]
  },
  {
   "cell_type": "code",
   "execution_count": 2,
   "metadata": {},
   "outputs": [
    {
     "data": {
      "text/html": [
       "<div>\n",
       "<style scoped>\n",
       "    .dataframe tbody tr th:only-of-type {\n",
       "        vertical-align: middle;\n",
       "    }\n",
       "\n",
       "    .dataframe tbody tr th {\n",
       "        vertical-align: top;\n",
       "    }\n",
       "\n",
       "    .dataframe thead th {\n",
       "        text-align: right;\n",
       "    }\n",
       "</style>\n",
       "<table border=\"1\" class=\"dataframe\">\n",
       "  <thead>\n",
       "    <tr style=\"text-align: right;\">\n",
       "      <th></th>\n",
       "      <th>loan_size</th>\n",
       "      <th>interest_rate</th>\n",
       "      <th>borrower_income</th>\n",
       "      <th>debt_to_income</th>\n",
       "      <th>num_of_accounts</th>\n",
       "      <th>derogatory_marks</th>\n",
       "      <th>total_debt</th>\n",
       "      <th>loan_status</th>\n",
       "    </tr>\n",
       "  </thead>\n",
       "  <tbody>\n",
       "    <tr>\n",
       "      <th>0</th>\n",
       "      <td>10700.0</td>\n",
       "      <td>7.672</td>\n",
       "      <td>52800</td>\n",
       "      <td>0.431818</td>\n",
       "      <td>5</td>\n",
       "      <td>1</td>\n",
       "      <td>22800</td>\n",
       "      <td>0</td>\n",
       "    </tr>\n",
       "    <tr>\n",
       "      <th>1</th>\n",
       "      <td>8400.0</td>\n",
       "      <td>6.692</td>\n",
       "      <td>43600</td>\n",
       "      <td>0.311927</td>\n",
       "      <td>3</td>\n",
       "      <td>0</td>\n",
       "      <td>13600</td>\n",
       "      <td>0</td>\n",
       "    </tr>\n",
       "    <tr>\n",
       "      <th>2</th>\n",
       "      <td>9000.0</td>\n",
       "      <td>6.963</td>\n",
       "      <td>46100</td>\n",
       "      <td>0.349241</td>\n",
       "      <td>3</td>\n",
       "      <td>0</td>\n",
       "      <td>16100</td>\n",
       "      <td>0</td>\n",
       "    </tr>\n",
       "    <tr>\n",
       "      <th>3</th>\n",
       "      <td>10700.0</td>\n",
       "      <td>7.664</td>\n",
       "      <td>52700</td>\n",
       "      <td>0.430740</td>\n",
       "      <td>5</td>\n",
       "      <td>1</td>\n",
       "      <td>22700</td>\n",
       "      <td>0</td>\n",
       "    </tr>\n",
       "    <tr>\n",
       "      <th>4</th>\n",
       "      <td>10800.0</td>\n",
       "      <td>7.698</td>\n",
       "      <td>53000</td>\n",
       "      <td>0.433962</td>\n",
       "      <td>5</td>\n",
       "      <td>1</td>\n",
       "      <td>23000</td>\n",
       "      <td>0</td>\n",
       "    </tr>\n",
       "  </tbody>\n",
       "</table>\n",
       "</div>"
      ],
      "text/plain": [
       "   loan_size  interest_rate  borrower_income  debt_to_income  num_of_accounts  \\\n",
       "0    10700.0          7.672            52800        0.431818                5   \n",
       "1     8400.0          6.692            43600        0.311927                3   \n",
       "2     9000.0          6.963            46100        0.349241                3   \n",
       "3    10700.0          7.664            52700        0.430740                5   \n",
       "4    10800.0          7.698            53000        0.433962                5   \n",
       "\n",
       "   derogatory_marks  total_debt  loan_status  \n",
       "0                 1       22800            0  \n",
       "1                 0       13600            0  \n",
       "2                 0       16100            0  \n",
       "3                 1       22700            0  \n",
       "4                 1       23000            0  "
      ]
     },
     "execution_count": 2,
     "metadata": {},
     "output_type": "execute_result"
    }
   ],
   "source": [
    "# Import the data\n",
    "# Reading in CSV \n",
    "lending_data = pd.read_csv('lending_data.csv')\n",
    "lending_data.head()"
   ]
  },
  {
   "cell_type": "code",
   "execution_count": 3,
   "metadata": {},
   "outputs": [
    {
     "name": "stdout",
     "output_type": "stream",
     "text": [
      "<class 'pandas.core.frame.DataFrame'>\n",
      "RangeIndex: 77536 entries, 0 to 77535\n",
      "Data columns (total 8 columns):\n",
      " #   Column            Non-Null Count  Dtype  \n",
      "---  ------            --------------  -----  \n",
      " 0   loan_size         77536 non-null  float64\n",
      " 1   interest_rate     77536 non-null  float64\n",
      " 2   borrower_income   77536 non-null  int64  \n",
      " 3   debt_to_income    77536 non-null  float64\n",
      " 4   num_of_accounts   77536 non-null  int64  \n",
      " 5   derogatory_marks  77536 non-null  int64  \n",
      " 6   total_debt        77536 non-null  int64  \n",
      " 7   loan_status       77536 non-null  int64  \n",
      "dtypes: float64(3), int64(5)\n",
      "memory usage: 4.7 MB\n"
     ]
    }
   ],
   "source": [
    "# Viewing shape and contents of data\n",
    "# There are no missing values \n",
    "lending_data.info()"
   ]
  },
  {
   "cell_type": "markdown",
   "metadata": {},
   "source": [
    "Predicting whether a loan will be approved or not and classify the risk level of given loans. 'loan_status' = binary classification which is what we want to predict on unseen data. "
   ]
  },
  {
   "cell_type": "code",
   "execution_count": 4,
   "metadata": {},
   "outputs": [],
   "source": [
    "# set up variables \n",
    "X = lending_data.drop('loan_status', axis=1)\n",
    "y = lending_data['loan_status']"
   ]
  },
  {
   "cell_type": "code",
   "execution_count": 5,
   "metadata": {},
   "outputs": [
    {
     "data": {
      "text/plain": [
       "0        0\n",
       "1        0\n",
       "2        0\n",
       "3        0\n",
       "4        0\n",
       "        ..\n",
       "77531    1\n",
       "77532    1\n",
       "77533    1\n",
       "77534    1\n",
       "77535    1\n",
       "Name: loan_status, Length: 77536, dtype: int64"
      ]
     },
     "execution_count": 5,
     "metadata": {},
     "output_type": "execute_result"
    }
   ],
   "source": [
    "y\n",
    "#X.columns"
   ]
  },
  {
   "cell_type": "markdown",
   "metadata": {},
   "source": [
    "# Prediction on model performance"
   ]
  },
  {
   "cell_type": "markdown",
   "metadata": {},
   "source": [
    "I believe that the random forest classifier will perform better on this data as the dataset does not consist of linear data but of categorical data."
   ]
  },
  {
   "cell_type": "markdown",
   "metadata": {},
   "source": [
    "## Logistic Regression Model: Unscaled Data"
   ]
  },
  {
   "cell_type": "code",
   "execution_count": 6,
   "metadata": {},
   "outputs": [],
   "source": [
    "# Split the data into X_train, X_test, y_train, y_test\n",
    "X_train, X_test, y_train, y_test = train_test_split(X, y, test_size=0.3, random_state=42)"
   ]
  },
  {
   "cell_type": "code",
   "execution_count": 7,
   "metadata": {},
   "outputs": [
    {
     "data": {
      "text/plain": [
       "LogisticRegression()"
      ]
     },
     "execution_count": 7,
     "metadata": {},
     "output_type": "execute_result"
    }
   ],
   "source": [
    "# Create classifier\n",
    "logreg = LogisticRegression()\n",
    "\n",
    "# Fit the classifier to training data \n",
    "logreg.fit(X_train, y_train)"
   ]
  },
  {
   "cell_type": "code",
   "execution_count": 8,
   "metadata": {},
   "outputs": [],
   "source": [
    "# Predict labels of the test set\n",
    "y_pred = logreg.predict(X_test)"
   ]
  },
  {
   "cell_type": "code",
   "execution_count": 39,
   "metadata": {},
   "outputs": [
    {
     "name": "stdout",
     "output_type": "stream",
     "text": [
      "              precision    recall  f1-score   support\n",
      "\n",
      "           0       1.00      1.00      1.00     22564\n",
      "           1       0.85      0.91      0.88       697\n",
      "\n",
      "    accuracy                           0.99     23261\n",
      "   macro avg       0.92      0.95      0.94     23261\n",
      "weighted avg       0.99      0.99      0.99     23261\n",
      "\n",
      "Logistic Regression Model Unscaled Training Data score: 0.9667802855826808\n",
      "Logistic Regression Model Unscaled Testing Data score: 0.9700356820429045\n"
     ]
    },
    {
     "name": "stderr",
     "output_type": "stream",
     "text": [
      "C:\\Users\\shann\\anaconda3\\envs\\PythonData\\lib\\site-packages\\sklearn\\base.py:444: UserWarning: X has feature names, but LogisticRegression was fitted without feature names\n",
      "  f\"X has feature names, but {self.__class__.__name__} was fitted without\"\n",
      "C:\\Users\\shann\\anaconda3\\envs\\PythonData\\lib\\site-packages\\sklearn\\base.py:444: UserWarning: X has feature names, but LogisticRegression was fitted without feature names\n",
      "  f\"X has feature names, but {self.__class__.__name__} was fitted without\"\n"
     ]
    }
   ],
   "source": [
    "# Model scores\n",
    "# Training data score\n",
    "print(classification_report(y_test, y_pred))\n",
    "print(f'Logistic Regression Model Unscaled Training Data score: {logreg.score(X_train, y_train)}')\n",
    "print(f'Logistic Regression Model Unscaled Testing Data score: {logreg.score(X_test, y_test)}')"
   ]
  },
  {
   "cell_type": "markdown",
   "metadata": {},
   "source": [
    "## Logistic Regression Model: Scaled Data"
   ]
  },
  {
   "cell_type": "code",
   "execution_count": 30,
   "metadata": {},
   "outputs": [],
   "source": [
    "# Scale the data using StandardScaler()\n",
    "scaler = StandardScaler().fit(X_train)\n",
    "X_train_scaled = scaler.transform(X_train)\n",
    "X_test_scaled = scaler.transform(X_test)"
   ]
  },
  {
   "cell_type": "code",
   "execution_count": 31,
   "metadata": {},
   "outputs": [],
   "source": [
    "# Create classifier\n",
    "logreg = LogisticRegression()\n",
    "\n",
    "# Fit the classifier to training data \n",
    "logreg.fit(X_train_scaled, y_train)\n",
    "y_pred_scaled = logreg.predict(X_test_scaled)"
   ]
  },
  {
   "cell_type": "code",
   "execution_count": 36,
   "metadata": {},
   "outputs": [
    {
     "name": "stdout",
     "output_type": "stream",
     "text": [
      "Logistic Regression Model Scaled Training Data score: 0.994048825426071\n",
      "Logistic Regression Model Scaled Testing Data score: 0.9943252654658011\n"
     ]
    }
   ],
   "source": [
    "# Scores for scaled data\n",
    "# Training data score\n",
    "#print(classification_report(y_test, y_pred_scaled))\n",
    "print(f'Logistic Regression Model Scaled Training Data score: {logreg.score(X_train_scaled, y_train)}')\n",
    "print(f'Logistic Regression Model Scaled Testing Data score: {logreg.score(X_test_scaled, y_test)}')"
   ]
  },
  {
   "cell_type": "markdown",
   "metadata": {},
   "source": [
    "## Random Forest Classifier Model: Unscaled Data"
   ]
  },
  {
   "cell_type": "code",
   "execution_count": 14,
   "metadata": {},
   "outputs": [],
   "source": [
    "from sklearn.ensemble import RandomForestClassifier\n",
    "from sklearn.metrics import classification_report"
   ]
  },
  {
   "cell_type": "code",
   "execution_count": 38,
   "metadata": {},
   "outputs": [
    {
     "name": "stdout",
     "output_type": "stream",
     "text": [
      "              precision    recall  f1-score   support\n",
      "\n",
      "           0       1.00      1.00      1.00     22564\n",
      "           1       0.85      0.91      0.88       697\n",
      "\n",
      "    accuracy                           0.99     23261\n",
      "   macro avg       0.92      0.95      0.94     23261\n",
      "weighted avg       0.99      0.99      0.99     23261\n",
      "\n",
      "Random Forest Classifier Unscaled Model Training Score: 0.9971810225702441\n",
      "Random Forest Classifier Unscaled Model Testing Score: 0.9925626585271484\n"
     ]
    }
   ],
   "source": [
    " # Fit a model, and then print a classification report\n",
    "clf = RandomForestClassifier(random_state=1).fit(X_train, y_train)\n",
    "y_pred = clf.predict(X_test)\n",
    "print(classification_report(y_test, y_pred))\n",
    "print(f'Random Forest Classifier Unscaled Model Training Score: {clf.score(X_train, y_train)}')\n",
    "print(f'Random Forest Classifier Unscaled Model Testing Score: {clf.score(X_test, y_test)}')"
   ]
  },
  {
   "cell_type": "markdown",
   "metadata": {},
   "source": [
    "## Random Forest Classifier Model: Scaled Data"
   ]
  },
  {
   "cell_type": "code",
   "execution_count": 37,
   "metadata": {},
   "outputs": [
    {
     "name": "stdout",
     "output_type": "stream",
     "text": [
      "              precision    recall  f1-score   support\n",
      "\n",
      "           0       1.00      1.00      1.00     22564\n",
      "           1       0.85      0.91      0.88       697\n",
      "\n",
      "    accuracy                           0.99     23261\n",
      "   macro avg       0.92      0.95      0.94     23261\n",
      "weighted avg       0.99      0.99      0.99     23261\n",
      "\n",
      "Random Forest Classifier Model Scaled Training Score: 0.9971810225702441\n",
      "Random Forest Classifier Scaled Model Testing Score: 0.9924766777008727\n"
     ]
    }
   ],
   "source": [
    " # Fit a model, and then print a classification report\n",
    "clf = RandomForestClassifier(random_state=1).fit(X_train_scaled, y_train)\n",
    "y_pred_scaled = clf.predict(X_test_scaled)\n",
    "print(classification_report(y_test, y_pred_scaled))\n",
    "print(f'Random Forest Classifier Model Scaled Training Score: {clf.score(X_train_scaled, y_train)}')\n",
    "print(f'Random Forest Classifier Scaled Model Testing Score: {clf.score(X_test_scaled, y_test)}')"
   ]
  },
  {
   "cell_type": "markdown",
   "metadata": {},
   "source": [
    "# Evaluation and comparison of model performance "
   ]
  },
  {
   "cell_type": "code",
   "execution_count": 40,
   "metadata": {},
   "outputs": [
    {
     "name": "stdout",
     "output_type": "stream",
     "text": [
      "Logistic Regression Model Scores\n",
      "Unscaled\n",
      "Logistic Regression Model Unscaled Training Data score: 0.9667802855826808\n",
      "Logistic Regression Model Unscaled Testing Data score: 0.9700356820429045\n",
      "-----------------------------------------------\n",
      "Scaled\n",
      "Logistic Regression Model Scaled Training Data score: 0.994048825426071\n",
      "Logistic Regression Model Scaled Testing Data score: 0.9943252654658011\n",
      "-----------------------------------------------\n",
      "-----------------------------------------------\n",
      "Random Forest Classifier Model Scores\n",
      "Unscaled\n"
     ]
    },
    {
     "name": "stderr",
     "output_type": "stream",
     "text": [
      "C:\\Users\\shann\\anaconda3\\envs\\PythonData\\lib\\site-packages\\sklearn\\base.py:444: UserWarning: X has feature names, but LogisticRegression was fitted without feature names\n",
      "  f\"X has feature names, but {self.__class__.__name__} was fitted without\"\n",
      "C:\\Users\\shann\\anaconda3\\envs\\PythonData\\lib\\site-packages\\sklearn\\base.py:444: UserWarning: X has feature names, but LogisticRegression was fitted without feature names\n",
      "  f\"X has feature names, but {self.__class__.__name__} was fitted without\"\n"
     ]
    },
    {
     "name": "stdout",
     "output_type": "stream",
     "text": [
      "Random Forest Classifier Unscaled Model Training Score: 0.9971810225702441\n",
      "Random Forest Classifier Unscaled Model Testing Score: 0.9925626585271484\n",
      "-----------------------------------------------\n",
      "Scaled\n"
     ]
    },
    {
     "name": "stderr",
     "output_type": "stream",
     "text": [
      "C:\\Users\\shann\\anaconda3\\envs\\PythonData\\lib\\site-packages\\sklearn\\base.py:451: UserWarning: X does not have valid feature names, but RandomForestClassifier was fitted with feature names\n",
      "  \"X does not have valid feature names, but\"\n"
     ]
    },
    {
     "name": "stdout",
     "output_type": "stream",
     "text": [
      "Random Forest Classifier Model Scaled Training Score: 0.9667802855826808\n",
      "Random Forest Classifier Scaled Model Testing Score: 0.9700356820429045\n"
     ]
    },
    {
     "name": "stderr",
     "output_type": "stream",
     "text": [
      "C:\\Users\\shann\\anaconda3\\envs\\PythonData\\lib\\site-packages\\sklearn\\base.py:451: UserWarning: X does not have valid feature names, but RandomForestClassifier was fitted with feature names\n",
      "  \"X does not have valid feature names, but\"\n"
     ]
    }
   ],
   "source": [
    "print('Logistic Regression Model Scores')\n",
    "print('Unscaled')\n",
    "print(f'Logistic Regression Model Unscaled Training Data score: {logreg.score(X_train, y_train)}')\n",
    "print(f'Logistic Regression Model Unscaled Testing Data score: {logreg.score(X_test, y_test)}')\n",
    "print('-----------------------------------------------')\n",
    "print('Scaled')\n",
    "print(f'Logistic Regression Model Scaled Training Data score: {logreg.score(X_train_scaled, y_train)}')\n",
    "print(f'Logistic Regression Model Scaled Testing Data score: {logreg.score(X_test_scaled, y_test)}')\n",
    "print('-----------------------------------------------')\n",
    "print('-----------------------------------------------')\n",
    "print('Random Forest Classifier Model Scores')\n",
    "print('Unscaled')\n",
    "print(f'Random Forest Classifier Unscaled Model Training Score: {clf.score(X_train, y_train)}')\n",
    "print(f'Random Forest Classifier Unscaled Model Testing Score: {clf.score(X_test, y_test)}')\n",
    "print('-----------------------------------------------')\n",
    "print('Scaled')\n",
    "print(f'Random Forest Classifier Model Scaled Training Score: {clf.score(X_train_scaled, y_train)}')\n",
    "print(f'Random Forest Classifier Scaled Model Testing Score: {clf.score(X_test_scaled, y_test)}')"
   ]
  },
  {
   "cell_type": "markdown",
   "metadata": {},
   "source": [
    "From the above scores it seems that Logistic Regression Model performs better than the Random Forest Classifier. The Logistic Regression model also performs better with scaled data. The Random Forest Classifier seems to perfrom better on unscaled data which suggests that the training data has been overfitted to the model. The scaled data shows a slightly lower score. "
   ]
  }
 ],
 "metadata": {
  "kernelspec": {
   "display_name": "Python 3",
   "language": "python",
   "name": "python3"
  },
  "language_info": {
   "codemirror_mode": {
    "name": "ipython",
    "version": 3
   },
   "file_extension": ".py",
   "mimetype": "text/x-python",
   "name": "python",
   "nbconvert_exporter": "python",
   "pygments_lexer": "ipython3",
   "version": "3.7.11"
  }
 },
 "nbformat": 4,
 "nbformat_minor": 4
}
